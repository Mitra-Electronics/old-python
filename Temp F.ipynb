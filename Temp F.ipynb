{
 "cells": [
  {
   "cell_type": "code",
   "execution_count": 10,
   "metadata": {},
   "outputs": [
    {
     "name": "stdout",
     "output_type": "stream",
     "text": [
      "Enter the temperature in Fahrenheit32\n",
      "32.000000 Fahrenheit equals to 0.000000 Celsius and 273.000000 Kelvin\n"
     ]
    }
   ],
   "source": [
    "f = float(input(\"Enter the temperature in Fahrenheit\"))\n",
    "c = (f-32)/9 * 5\n",
    "k = c + 273\n",
    "print(\"%f Fahrenheit equals to %f Celsius and %f Kelvin\" %(f, c, k))"
   ]
  },
  {
   "cell_type": "code",
   "execution_count": null,
   "metadata": {},
   "outputs": [],
   "source": []
  }
 ],
 "metadata": {
  "kernelspec": {
   "display_name": "Python 3",
   "language": "python",
   "name": "python3"
  },
  "language_info": {
   "codemirror_mode": {
    "name": "ipython",
    "version": 3
   },
   "file_extension": ".py",
   "mimetype": "text/x-python",
   "name": "python",
   "nbconvert_exporter": "python",
   "pygments_lexer": "ipython3",
   "version": "3.8.5"
  }
 },
 "nbformat": 4,
 "nbformat_minor": 4
}
