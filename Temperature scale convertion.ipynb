{
 "cells": [
  {
   "cell_type": "code",
   "execution_count": 3,
   "metadata": {
    "scrolled": true
   },
   "outputs": [
    {
     "name": "stdout",
     "output_type": "stream",
     "text": [
      "Enter the temperature in Celsius: 34\n"
     ]
    }
   ],
   "source": [
    "c = float(input(\"Enter the temperature in Celsius: \"))\n",
    "f = (c*(9/5)) + 32\n",
    "k = c + 273"
   ]
  },
  {
   "cell_type": "code",
   "execution_count": 4,
   "metadata": {},
   "outputs": [
    {
     "name": "stdout",
     "output_type": "stream",
     "text": [
      "34.0 Celsius is equal to 93.2 Fahrenheit \n",
      " and in Kelvin scale 307.0 K\n"
     ]
    }
   ],
   "source": [
    "print(\"%0.1f Celsius is equal to %0.1f Fahrenheit \\n and in Kelvin scale %0.1f K\" %(c, f, k))"
   ]
  },
  {
   "cell_type": "code",
   "execution_count": null,
   "metadata": {},
   "outputs": [],
   "source": []
  }
 ],
 "metadata": {
  "kernelspec": {
   "display_name": "Python 3",
   "language": "python",
   "name": "python3"
  },
  "language_info": {
   "codemirror_mode": {
    "name": "ipython",
    "version": 3
   },
   "file_extension": ".py",
   "mimetype": "text/x-python",
   "name": "python",
   "nbconvert_exporter": "python",
   "pygments_lexer": "ipython3",
   "version": "3.8.5"
  }
 },
 "nbformat": 4,
 "nbformat_minor": 4
}
