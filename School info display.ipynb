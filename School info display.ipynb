{
 "cells": [
  {
   "cell_type": "code",
   "execution_count": null,
   "metadata": {},
   "outputs": [
    {
     "name": "stdout",
     "output_type": "stream",
     "text": [
      "Enter your name: Ishan Mitra\n",
      "Enter your class: 6\n",
      "Enter your section: D\n"
     ]
    }
   ],
   "source": [
    "x = input (\"Enter your name: \")\n",
    "y = int(input (\"Enter your class: \"))\n",
    "z = input (\"Enter your section: \")\n",
    "a = int(input (\"Enter your roll no: \"))\n",
    "b = input(\"Are you a boy(b) or girl(g)? \")\n",
    "if b == \"b\" :\n",
    "    p = \"His\"\n",
    "else:\n",
    "    p = \"Her\"\n",
    "print (\"%s of class %d reads in section %s. %s roll no is %d.\" %(x, y, z, p, a))"
   ]
  },
  {
   "cell_type": "code",
   "execution_count": null,
   "metadata": {},
   "outputs": [],
   "source": []
  }
 ],
 "metadata": {
  "kernelspec": {
   "display_name": "Python 3",
   "language": "python",
   "name": "python3"
  },
  "language_info": {
   "codemirror_mode": {
    "name": "ipython",
    "version": 3
   },
   "file_extension": ".py",
   "mimetype": "text/x-python",
   "name": "python",
   "nbconvert_exporter": "python",
   "pygments_lexer": "ipython3",
   "version": "3.8.5"
  }
 },
 "nbformat": 4,
 "nbformat_minor": 4
}
