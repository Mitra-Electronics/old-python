{
 "cells": [
  {
   "cell_type": "code",
   "execution_count": 1,
   "metadata": {},
   "outputs": [],
   "source": [
    "y = [3, 4, 5, 6, 4, 3, 7, 5, 3, 4, 2, 1, 8, 1]\n",
    "counted = -1\n",
    "y2 = len(y)*[None]"
   ]
  },
  {
   "cell_type": "code",
   "execution_count": 9,
   "metadata": {},
   "outputs": [],
   "source": [
    "for i in range(0, len(y)):\n",
    "    count = 1\n",
    "    for j in range(i+1, len(y)):\n",
    "        if y[i]==y[j]:\n",
    "            count=count+1\n",
    "            y2[j]=counted\n",
    "    if y2[i]!= counted:\n",
    "        y2[i]=count"
   ]
  },
  {
   "cell_type": "code",
   "execution_count": 10,
   "metadata": {},
   "outputs": [
    {
     "name": "stdout",
     "output_type": "stream",
     "text": [
      "Element   ||  Occurence\n",
      "    3     ||    3\n",
      "    4     ||    3\n",
      "    5     ||    2\n",
      "    6     ||    1\n",
      "    7     ||    1\n",
      "    2     ||    1\n",
      "    1     ||    2\n",
      "    8     ||    1\n"
     ]
    }
   ],
   "source": [
    "print(\"Element   ||  Occurence\")\n",
    "for k in range(0, len(y)):\n",
    "    if y2[k]!=counted:\n",
    "        print(\"    \" + str(y[k]) + \"     ||    \" + str(y2[k]))"
   ]
  },
  {
   "cell_type": "code",
   "execution_count": null,
   "metadata": {},
   "outputs": [],
   "source": []
  }
 ],
 "metadata": {
  "kernelspec": {
   "display_name": "Python 3",
   "language": "python",
   "name": "python3"
  },
  "language_info": {
   "codemirror_mode": {
    "name": "ipython",
    "version": 3
   },
   "file_extension": ".py",
   "mimetype": "text/x-python",
   "name": "python",
   "nbconvert_exporter": "python",
   "pygments_lexer": "ipython3",
   "version": "3.8.5"
  }
 },
 "nbformat": 4,
 "nbformat_minor": 4
}
