{
 "cells": [
  {
   "cell_type": "code",
   "execution_count": 12,
   "metadata": {},
   "outputs": [
    {
     "name": "stdin",
     "output_type": "stream",
     "text": [
      "Enter a string Ishan\n"
     ]
    }
   ],
   "source": [
    "st = input(\"Enter a string\")"
   ]
  },
  {
   "cell_type": "code",
   "execution_count": 30,
   "metadata": {},
   "outputs": [],
   "source": [
    "def split(word): \n",
    "    return [char for char in word]\n",
    "name = split(st)\n",
    "nl = len(name)\n",
    "vow = []\n",
    "cons = []"
   ]
  },
  {
   "cell_type": "code",
   "execution_count": 36,
   "metadata": {},
   "outputs": [
    {
     "name": "stdout",
     "output_type": "stream",
     "text": [
      "There are 3 consonants and 2 vowels\n",
      "The vowels are \n",
      "['I', 'a']\n",
      "The consonants are\n",
      "['s', 'h', 'n']\n"
     ]
    }
   ],
   "source": [
    "vowels = 0\n",
    "consonant = 0\n",
    "vow.clear()\n",
    "cons.clear()\n",
    "for i in range(0, nl):\n",
    "    if ((name[i] == 'a') or (name[i] == 'e') or (name[i] == 'i') or (name[i] == 'o') or (name[i] == 'u') or (name[i] == 'A') or (name[i] == 'E') or (name[i] == 'I') or (name[i] == 'O') or (name[i] == 'U')):\n",
    "        vowels = vowels + 1\n",
    "        vow.append(name[i])\n",
    "    else:\n",
    "        consonant = consonant + 1\n",
    "        cons.append(name[i])\n",
    "constr = str(consonant)\n",
    "vowstr = str(vowels)\n",
    "print(\"There are \" + constr + \" consonants and \" + vowstr + \" vowels\")\n",
    "print(\"The vowels are \")\n",
    "print(vow)\n",
    "print(\"The consonants are\")\n",
    "print(cons)"
   ]
  },
  {
   "cell_type": "code",
   "execution_count": 33,
   "metadata": {},
   "outputs": [
    {
     "data": {
      "text/plain": [
       "['s', 'h', 'n']"
      ]
     },
     "execution_count": 33,
     "metadata": {},
     "output_type": "execute_result"
    }
   ],
   "source": [
    "cons"
   ]
  },
  {
   "cell_type": "code",
   "execution_count": 20,
   "metadata": {},
   "outputs": [
    {
     "data": {
      "text/plain": [
       "['I', 's', 'h', 'a', 'n']"
      ]
     },
     "execution_count": 20,
     "metadata": {},
     "output_type": "execute_result"
    }
   ],
   "source": []
  },
  {
   "cell_type": "code",
   "execution_count": null,
   "metadata": {},
   "outputs": [],
   "source": []
  }
 ],
 "metadata": {
  "kernelspec": {
   "display_name": "Python 3",
   "language": "python",
   "name": "python3"
  },
  "language_info": {
   "codemirror_mode": {
    "name": "ipython",
    "version": 3
   },
   "file_extension": ".py",
   "mimetype": "text/x-python",
   "name": "python",
   "nbconvert_exporter": "python",
   "pygments_lexer": "ipython3",
   "version": "3.8.5"
  }
 },
 "nbformat": 4,
 "nbformat_minor": 4
}
