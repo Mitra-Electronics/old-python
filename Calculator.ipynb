{
 "cells": [
  {
   "cell_type": "code",
   "execution_count": 17,
   "metadata": {},
   "outputs": [
    {
     "name": "stdout",
     "output_type": "stream",
     "text": [
      "Enter a number: 4\n",
      "Enter the operation: degrees\n",
      "229.1831180523293\n"
     ]
    }
   ],
   "source": [
    "import math\n",
    "x = int(input(\"Enter a number: \"))\n",
    "y = input(\"Enter the operation: \")\n",
    "if y == \"+\":\n",
    "    z = int(input(\"Enter second number: \"))\n",
    "    print(x+z)\n",
    "elif y == \"-\":\n",
    "    z = int(input(\"Enter second number: \"))\n",
    "    print(x-z)\n",
    "elif y == \"*\":\n",
    "    z = int(input(\"Enter second number: \"))\n",
    "    print(x*z)\n",
    "elif y == \"/\":\n",
    "    z = int(input(\"Enter second number: \"))\n",
    "    print(x/z)\n",
    "elif y == \"square root\":\n",
    "    f = math.sqrt(x)\n",
    "    print(f)\n",
    "elif y == \"degrees\":\n",
    "    f = math.degrees(x)\n",
    "    print(f)\n",
    "else:\n",
    "    print(\"Error\")"
   ]
  }
 ],
 "metadata": {
  "kernelspec": {
   "display_name": "Python 3",
   "language": "python",
   "name": "python3"
  },
  "language_info": {
   "codemirror_mode": {
    "name": "ipython",
    "version": 3
   },
   "file_extension": ".py",
   "mimetype": "text/x-python",
   "name": "python",
   "nbconvert_exporter": "python",
   "pygments_lexer": "ipython3",
   "version": "3.8.5"
  }
 },
 "nbformat": 4,
 "nbformat_minor": 4
}
