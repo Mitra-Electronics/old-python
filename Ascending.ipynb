{
 "cells": [
  {
   "cell_type": "code",
   "execution_count": 18,
   "metadata": {},
   "outputs": [
    {
     "name": "stdin",
     "output_type": "stream",
     "text": [
      "Enter number of elements :  6\n"
     ]
    },
    {
     "name": "stdout",
     "output_type": "stream",
     "text": [
      "Enter 6 numbers\n"
     ]
    },
    {
     "name": "stdin",
     "output_type": "stream",
     "text": [
      " 3\n",
      " 6\n",
      " 4\n",
      " 2\n",
      " 3\n",
      " 5\n"
     ]
    }
   ],
   "source": [
    "lst = [] \n",
    " \n",
    "n = int(input(\"Enter number of elements : \"))\n",
    "nstr = str(n)\n",
    "print('Enter ' + nstr + ' numbers')\n",
    "for i in range(0, n): \n",
    "    ele = int(input()) \n",
    "  \n",
    "    lst.append(ele) # adding the element \n"
   ]
  },
  {
   "cell_type": "code",
   "execution_count": 22,
   "metadata": {},
   "outputs": [
    {
     "name": "stdout",
     "output_type": "stream",
     "text": [
      "[2, 3, 3, 4, 5, 6]\n"
     ]
    }
   ],
   "source": [
    "temp = 0\n",
    "for j in range(0, n):\n",
    "    for k in range(j+1, n):\n",
    "        if lst[j] > lst[k]:\n",
    "            temp = lst[j]\n",
    "            lst[j] = lst[k]\n",
    "            lst[k] = temp\n",
    "print(lst)"
   ]
  },
  {
   "cell_type": "code",
   "execution_count": 27,
   "metadata": {},
   "outputs": [
    {
     "name": "stdout",
     "output_type": "stream",
     "text": [
      "[2, 3, 3, 4, 5, 6]\n"
     ]
    }
   ],
   "source": [
    "temp1 = 0\n",
    "for l in range(n, 0):\n",
    "    for m in range(l+1, n):\n",
    "        if lst[l] > lst[m]:\n",
    "            temp1 = lst[l]\n",
    "            lst[l] = lst[m]\n",
    "            lst[m] = temp1\n",
    "print(lst)"
   ]
  },
  {
   "cell_type": "code",
   "execution_count": null,
   "metadata": {},
   "outputs": [],
   "source": []
  },
  {
   "cell_type": "code",
   "execution_count": null,
   "metadata": {},
   "outputs": [],
   "source": []
  }
 ],
 "metadata": {
  "kernelspec": {
   "display_name": "Python 3",
   "language": "python",
   "name": "python3"
  },
  "language_info": {
   "codemirror_mode": {
    "name": "ipython",
    "version": 3
   },
   "file_extension": ".py",
   "mimetype": "text/x-python",
   "name": "python",
   "nbconvert_exporter": "python",
   "pygments_lexer": "ipython3",
   "version": "3.8.5"
  }
 },
 "nbformat": 4,
 "nbformat_minor": 4
}
